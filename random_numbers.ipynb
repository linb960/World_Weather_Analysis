{
 "cells": [
  {
   "cell_type": "code",
   "execution_count": 49,
   "metadata": {},
   "outputs": [],
   "source": [
    "#import random\n",
    "import numpy as np\n",
    "import timeit"
   ]
  },
  {
   "cell_type": "code",
   "execution_count": 50,
   "metadata": {},
   "outputs": [],
   "source": [
    "#random.randint(-90,90)"
   ]
  },
  {
   "cell_type": "code",
   "execution_count": 51,
   "metadata": {},
   "outputs": [],
   "source": [
    "#random.random()"
   ]
  },
  {
   "cell_type": "code",
   "execution_count": 52,
   "metadata": {},
   "outputs": [],
   "source": [
    "# x = 1 \n",
    "# latitudes = []\n",
    "# while x < 11:\n",
    "#     random_lat = random.randint(-90, 89) + random.random()\n",
    "#     latitudes.append(random_lat)\n",
    "#     x += 1"
   ]
  },
  {
   "cell_type": "code",
   "execution_count": 53,
   "metadata": {},
   "outputs": [],
   "source": [
    "#latitudes"
   ]
  },
  {
   "cell_type": "code",
   "execution_count": 54,
   "metadata": {},
   "outputs": [],
   "source": [
    "#random.randrange(-90, 90, step=1)"
   ]
  },
  {
   "cell_type": "code",
   "execution_count": 55,
   "metadata": {},
   "outputs": [],
   "source": [
    "#random.uniform(-90, 90)"
   ]
  },
  {
   "cell_type": "code",
   "execution_count": 56,
   "metadata": {},
   "outputs": [
    {
     "data": {
      "text/plain": [
       "array([-39.30047877,  50.08753944, -31.8926557 ,  -1.72491414,\n",
       "       -87.17397056,   0.53962143, -31.37447406,  14.24872525,\n",
       "        89.26524081, -44.7670617 , -77.32047355,  79.68634081,\n",
       "       -16.98683867, -19.45896716,  -7.74066105, -13.31523224,\n",
       "        84.98005126, -18.54342527,  19.23145095, -18.14707764,\n",
       "       -66.15528181, -26.8435441 ,  13.02913245, -11.98912741,\n",
       "       -19.97981547, -29.29145925,  46.60311464, -48.76249407,\n",
       "        47.28581922,  56.99347847, -34.19035498, -83.21197695,\n",
       "        21.59040418,   4.39362412,  15.02979805, -65.45893935,\n",
       "       -57.49991351, -74.19266618,  39.15184578,  83.51563839,\n",
       "       -72.20267916, -46.55467065,  75.21427995,  59.03659953,\n",
       "        36.63551922, -72.81314272,  49.46850206,  35.94479938,\n",
       "        13.57749762, -87.0963438 ])"
      ]
     },
     "execution_count": 56,
     "metadata": {},
     "output_type": "execute_result"
    }
   ],
   "source": [
    "np.random.uniform(-90.000, 90.000, size=50)"
   ]
  },
  {
   "cell_type": "code",
   "execution_count": 59,
   "metadata": {},
   "outputs": [
    {
     "name": "stdout",
     "output_type": "stream",
     "text": [
      "10.9 µs ± 89 ns per loop (mean ± std. dev. of 7 runs, 100000 loops each)\n"
     ]
    }
   ],
   "source": [
    "%timeit np.random.uniform(-90.000, 90.000, size=1500)"
   ]
  },
  {
   "cell_type": "code",
   "execution_count": 60,
   "metadata": {},
   "outputs": [
    {
     "name": "stdout",
     "output_type": "stream",
     "text": [
      "1.06 ms ± 29.2 µs per loop (mean ± std. dev. of 7 runs, 1000 loops each)\n"
     ]
    }
   ],
   "source": [
    "# def latitudes(size):\n",
    "#     latitudes = []\n",
    "#     x = 0\n",
    "#     while x < (size):\n",
    "#         random_lat = random.randint(-90, 90) + random.random()\n",
    "#         latitudes.append(random_lat)\n",
    "#         x += 1\n",
    "#     return latitudes\n",
    "# # Call the function with 1500.\n",
    "# %timeit latitudes(1500)"
   ]
  },
  {
   "cell_type": "code",
   "execution_count": 62,
   "metadata": {},
   "outputs": [
    {
     "name": "stdout",
     "output_type": "stream",
     "text": [
      "11 µs ± 195 ns per loop (mean ± std. dev. of 7 runs, 100000 loops each)\n"
     ]
    }
   ],
   "source": [
    "%timeit np.random.uniform(-180.000, 180.000, size=1500)"
   ]
  }
 ],
 "metadata": {
  "kernelspec": {
   "display_name": "PythonData",
   "language": "python",
   "name": "pythondata"
  },
  "language_info": {
   "codemirror_mode": {
    "name": "ipython",
    "version": 3
   },
   "file_extension": ".py",
   "mimetype": "text/x-python",
   "name": "python",
   "nbconvert_exporter": "python",
   "pygments_lexer": "ipython3",
   "version": "3.8.5"
  }
 },
 "nbformat": 4,
 "nbformat_minor": 4
}
